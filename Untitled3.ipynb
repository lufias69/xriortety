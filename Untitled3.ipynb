{
 "cells": [
  {
   "cell_type": "code",
   "execution_count": 1,
   "metadata": {},
   "outputs": [
    {
     "data": {
      "text/plain": [
       "2"
      ]
     },
     "execution_count": 1,
     "metadata": {},
     "output_type": "execute_result"
    }
   ],
   "source": [
    "import random\n",
    "\n",
    "# random integer from 0 to 9\n",
    "random.randint(1, 5)"
   ]
  },
  {
   "cell_type": "code",
   "execution_count": null,
   "metadata": {},
   "outputs": [],
   "source": [
    "counter_dalam = 0\n",
    "c=1\n",
    "xu=1\n",
    "for x,kolom in enumerate(data.columns):\n",
    "    if kolom not in kolom_tak_perlu:\n",
    "        counter_dalam += 1\n",
    "        if counter_dalam<=15:\n",
    "            dfx[\"X\"+str(xu)+\"-\"+str(c)] = data[kolom]\n",
    "            c+=1\n",
    "\n",
    "            if c==6:\n",
    "                c=1\n",
    "                xu+=1\n",
    "        else:\n",
    "            dfx[\"Y\"+\"-\"+str(c)] = data[kolom]\n",
    "            c+=1\n",
    "\n",
    "            if c==6:\n",
    "                c=1\n",
    "                xu+=1\n",
    "    "
   ]
  }
 ],
 "metadata": {
  "kernelspec": {
   "display_name": "Python 3",
   "language": "python",
   "name": "python3"
  },
  "language_info": {
   "codemirror_mode": {
    "name": "ipython",
    "version": 3
   },
   "file_extension": ".py",
   "mimetype": "text/x-python",
   "name": "python",
   "nbconvert_exporter": "python",
   "pygments_lexer": "ipython3",
   "version": "3.7.6"
  }
 },
 "nbformat": 4,
 "nbformat_minor": 4
}
